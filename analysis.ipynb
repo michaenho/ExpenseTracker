{
 "cells": [
  {
   "cell_type": "code",
   "execution_count": 7,
   "metadata": {},
   "outputs": [],
   "source": [
    "import pandas as pd\n",
    "import numpy as np\n",
    "import plotly.express as px\n",
    "import plotly.graph_objects as go\n",
    "from plotly.subplots import make_subplots\n",
    "import seaborn as sns\n",
    "import matplotlib.pyplot as plt\n",
    "from datetime import datetime\n",
    "import os\n",
    "import re"
   ]
  },
  {
   "cell_type": "code",
   "execution_count": 2,
   "metadata": {},
   "outputs": [],
   "source": [
    "def read_excel_files_from_folder(folder_path):\n",
    "    \n",
    "    # Check if the folder exists\n",
    "    if not os.path.isdir(folder_path):\n",
    "        print(f\"Error: The folder at '{folder_path}' does not exist.\")\n",
    "        return {}\n",
    "\n",
    "    excel_data = {}\n",
    "\n",
    "    # Loop through all files in the specified folder\n",
    "    for filename in os.listdir(folder_path):\n",
    "        \n",
    "        # Check if the file is an Excel file\n",
    "        if filename.endswith('.xlsx') or filename.endswith('.xls'):\n",
    "            \n",
    "            # Construct the full file path\n",
    "            file_path = os.path.join(folder_path, filename)\n",
    "            \n",
    "            try:\n",
    "                # Read the Excel file into a pandas DataFrame\n",
    "                df = pd.read_excel(file_path)\n",
    "                excel_data[filename] = df\n",
    "            except Exception as e:\n",
    "                print(f\"Could not read {filename}: {e}\")\n",
    "                \n",
    "    return excel_data\n",
    "\n",
    "data_folder = 'data'\n",
    "all_excel_dfs = read_excel_files_from_folder(data_folder)\n",
    "\n",
    "transactions = pd.concat(all_excel_dfs.values())\n",
    "transactions['Date'] = pd.to_datetime(transactions['Date'], format='%d/%m/%y', errors='coerce')\n",
    "\n",
    "transactions = transactions.sort_values('Date', ascending= False)\n"
   ]
  },
  {
   "cell_type": "code",
   "execution_count": 35,
   "metadata": {},
   "outputs": [
    {
     "name": "stderr",
     "output_type": "stream",
     "text": [
      "/var/folders/l4/7cp75vs51b3d0tnyvjd4p9fr0000gn/T/ipykernel_2669/2660447636.py:1: FutureWarning: data_manager option is deprecated and will be removed in a future version. Only the BlockManager will be available.\n",
      "  pd.reset_option('all')\n",
      "/var/folders/l4/7cp75vs51b3d0tnyvjd4p9fr0000gn/T/ipykernel_2669/2660447636.py:1: FutureWarning: use_inf_as_na option is deprecated and will be removed in a future version. Convert inf values to NaN before operating instead.\n",
      "  pd.reset_option('all')\n"
     ]
    }
   ],
   "source": [
    "\n",
    "pd.reset_option('all')\n",
    "#transactions[~transactions.Deposit.isna()]"
   ]
  },
  {
   "cell_type": "code",
   "execution_count": null,
   "metadata": {},
   "outputs": [],
   "source": [
    "# Create a dictionary of rules for withdrawals\n",
    "withdrawal_rules = {\n",
    "    'Food & Groceries': ['supermarket', 'bakery', 'restaurant', 'cafe', 'food court'],\n",
    "    'Transport': ['uber', 'grab', 'bus', 'mrt', 'petrol station'],\n",
    "    'Bills': ['phone bill', 'electricity', 'internet'],\n",
    "    'Shopping': ['shopee', 'lazada', 'amazon', 'department store'],\n",
    "    'Health': ['pharmacy', 'clinic', 'hospital']\n",
    "}\n"
   ]
  },
  {
   "cell_type": "code",
   "execution_count": 31,
   "metadata": {},
   "outputs": [],
   "source": [
    "# Create a dictionary of rules for deposits\n",
    "deposit_rules = {\n",
    "    'Salary': ['salary'],\n",
    "    'Cash Deposit': ['cash deposit', 'cash'],\n",
    "    'Government': ['mindef', 'gov', 'saf', 'gst voucher', 'govt'],\n",
    "    'Bank Transfer': ['fast payment / receipt', 'funds transfer', 'remittance', 'trfsb', 'fast'],\n",
    "    'Interest': ['interest'],\n",
    "    'Refund': ['refund', 'debit card transaction']\n",
    "}\n",
    "\n",
    "def categorize_deposit(text, rules):\n",
    "    \"\"\"\n",
    "    Categorizes a deposit description based on a set of rules.\n",
    "\n",
    "    Args:\n",
    "        text (str): The deposit description to categorize.\n",
    "        rules (dict): A dictionary of rules where keys are categories and\n",
    "                      values are lists of keywords.\n",
    "\n",
    "    Returns:\n",
    "        str: The category of the deposit.\n",
    "    \"\"\"\n",
    "    text_lower = text.lower()\n",
    "\n",
    "    # Rule 1: Check for the 'Other GIRO Deposits' condition first, as it's a\n",
    "    # special case with a negative constraint.\n",
    "    if 'payments / collections' in text_lower:\n",
    "        # Check if any government keywords are present.\n",
    "        gov_keywords = rules.get('Government', [])\n",
    "        contains_gov_keyword = any(keyword in text_lower for keyword in gov_keywords)\n",
    "\n",
    "        # If it contains 'payments / collections' AND does NOT contain any\n",
    "        # government keywords, it's 'Other GIRO Deposits'.\n",
    "        if not contains_gov_keyword:\n",
    "            return 'Other GIRO Deposits'\n",
    "\n",
    "    # Rule 2: Check for all other defined rules.\n",
    "    for category, keywords in rules.items():\n",
    "        # Iterate through the list of keywords for each category.\n",
    "        for keyword in keywords:\n",
    "            # We use a regex word boundary (\\b) to ensure we match whole words,\n",
    "            # which can prevent accidental matches in other words.\n",
    "            if re.search(r'\\b' + re.escape(keyword) + r'\\b', text_lower):\n",
    "                return category\n",
    "\n",
    "    # Fallback: If no rules match, return 'Other'.\n",
    "    return 'Other'\n",
    "\n",
    "transactions['Deposit Category'] = np.where(\n",
    "    transactions['Deposit'].notna(),\n",
    "    transactions['Description'].apply(lambda x: categorize_deposit(x, deposit_rules)),\n",
    "    np.nan\n",
    ")\n",
    "\n",
    "#transactions['Deposit Category'] = transactions['Description'].apply(lambda x: categorize_deposit(x, deposit_rules))"
   ]
  },
  {
   "cell_type": "code",
   "execution_count": 36,
   "metadata": {},
   "outputs": [],
   "source": [
    "pd.set_option('display.max_rows', None)\n",
    "#transactions[~transactions.Deposit.isna()]\n",
    "#pd.reset_option('all')\n",
    "\n",
    "#transactions[transactions['Deposit Category'] == 'Other']"
   ]
  },
  {
   "cell_type": "code",
   "execution_count": null,
   "metadata": {},
   "outputs": [],
   "source": [
    "def categorize_transaction(description, rules):\n",
    "    \"\"\"\n",
    "    Categorizes a single transaction based on a set of rules.\n",
    "\n",
    "    Args:\n",
    "        description (str): The description of the transaction.\n",
    "        rules (dict): A dictionary of categories and their associated keywords.\n",
    "\n",
    "    Returns:\n",
    "        str: The assigned category, or 'Uncategorized' if no match is found.\n",
    "    \"\"\"\n",
    "    if pd.isna(description):\n",
    "        return 'Uncategorized'\n",
    "        \n",
    "    # Check for keywords in a case-insensitive manner\n",
    "    desc_lower = description.lower()\n",
    "    for category, keywords in rules.items():\n",
    "        if any(keyword in desc_lower for keyword in keywords):\n",
    "            return category\n",
    "            \n",
    "    return 'Uncategorized'"
   ]
  },
  {
   "cell_type": "code",
   "execution_count": null,
   "metadata": {},
   "outputs": [],
   "source": [
    "# Apply the categorization to create new columns\n",
    "transactions['Withdrawal_Category'] = transactions.apply(\n",
    "    lambda row: categorize_transaction(row['descriptions'], withdrawal_rules) if row['withdrawal'] > 0 else 'N/A',\n",
    "    axis=1\n",
    ")\n",
    "\n",
    "transactions['Deposit_Category'] = transactions.apply(\n",
    "    lambda row: categorize_transaction(row['descriptions'], deposit_rules) if row['deposit'] > 0 else 'N/A',\n",
    "    axis=1\n",
    ")\n",
    "\n",
    "# Display the first few rows with the new categories to verify\n",
    "print(transactions.head())"
   ]
  },
  {
   "cell_type": "code",
   "execution_count": 33,
   "metadata": {},
   "outputs": [],
   "source": [
    "#total = transactions[transactions['Withdrawal'].isin([90, 100, 110, 120, 130, 140, 150, 160])].sort_values(by = 'Date')\n",
    "#total"
   ]
  },
  {
   "cell_type": "code",
   "execution_count": 34,
   "metadata": {},
   "outputs": [],
   "source": [
    "#total['Withdrawal'].sum()"
   ]
  },
  {
   "cell_type": "code",
   "execution_count": null,
   "metadata": {},
   "outputs": [],
   "source": []
  }
 ],
 "metadata": {
  "kernelspec": {
   "display_name": "venv",
   "language": "python",
   "name": "python3"
  },
  "language_info": {
   "codemirror_mode": {
    "name": "ipython",
    "version": 3
   },
   "file_extension": ".py",
   "mimetype": "text/x-python",
   "name": "python",
   "nbconvert_exporter": "python",
   "pygments_lexer": "ipython3",
   "version": "3.13.7"
  }
 },
 "nbformat": 4,
 "nbformat_minor": 2
}
